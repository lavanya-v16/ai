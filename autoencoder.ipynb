{
 "cells": [
  {
   "cell_type": "markdown",
   "metadata": {},
   "source": [
    "1. Read the csv file\n",
    "2. Drop Date feild\n",
    "3. If quality is 'Good' mark it as 1, if its 'Bad' mark it as 2 \n",
    "4. Make  df of the Good and Bad parts separately and drop the Quality column\n",
    "5. Obtain the values of the good parts and prepare training and testing set."
   ]
  },
  {
   "cell_type": "code",
   "execution_count": 380,
   "metadata": {},
   "outputs": [
    {
     "name": "stdout",
     "output_type": "stream",
     "text": [
      "       Date  Power  Detector Quality\n",
      "0  1-Jan-16     96         8    Good\n",
      "1  2-Jan-16     96        10    Good\n",
      "2  3-Jan-16     91         8    Good\n",
      "3  4-Jan-16     97         9    Good\n",
      "4  5-Jan-16     91        11    Good\n"
     ]
    }
   ],
   "source": [
    "import pandas as pd\n",
    "df = pd.read_csv('anomaly.csv')\n",
    "print(df.head())"
   ]
  },
  {
   "cell_type": "code",
   "execution_count": 381,
   "metadata": {},
   "outputs": [],
   "source": [
    "df.drop(['Date'], axis = 1, inplace= True)\n",
    "df.dropna(inplace=True, axis=1)"
   ]
  },
  {
   "cell_type": "code",
   "execution_count": 382,
   "metadata": {},
   "outputs": [
    {
     "name": "stderr",
     "output_type": "stream",
     "text": [
      "C:\\Users\\vijay\\AppData\\Local\\Temp\\ipykernel_23204\\482985629.py:1: SettingWithCopyWarning: \n",
      "A value is trying to be set on a copy of a slice from a DataFrame\n",
      "\n",
      "See the caveats in the documentation: https://pandas.pydata.org/pandas-docs/stable/user_guide/indexing.html#returning-a-view-versus-a-copy\n",
      "  df.Quality[df.Quality=='Good'] = 1\n",
      "C:\\Users\\vijay\\AppData\\Local\\Temp\\ipykernel_23204\\482985629.py:2: SettingWithCopyWarning: \n",
      "A value is trying to be set on a copy of a slice from a DataFrame\n",
      "\n",
      "See the caveats in the documentation: https://pandas.pydata.org/pandas-docs/stable/user_guide/indexing.html#returning-a-view-versus-a-copy\n",
      "  df.Quality[df.Quality=='Bad'] = 2\n"
     ]
    }
   ],
   "source": [
    "df.Quality[df.Quality=='Good'] = 1\n",
    "df.Quality[df.Quality=='Bad'] = 2\n"
   ]
  },
  {
   "cell_type": "markdown",
   "metadata": {},
   "source": []
  },
  {
   "cell_type": "code",
   "execution_count": 383,
   "metadata": {},
   "outputs": [],
   "source": [
    "good_mask = df['Quality']== 1 #All good to be True for good data points\n",
    "bad_mask = df['Quality']== 2 #All values False for bad data points"
   ]
  },
  {
   "cell_type": "code",
   "execution_count": 384,
   "metadata": {},
   "outputs": [
    {
     "name": "stdout",
     "output_type": "stream",
     "text": [
      "      Power  Detector\n",
      "0        96         8\n",
      "1        96        10\n",
      "2        91         8\n",
      "3        97         9\n",
      "4        91        11\n",
      "...     ...       ...\n",
      "1456     93         8\n",
      "1457     91        10\n",
      "1458     95         8\n",
      "1459     91        10\n",
      "1460    100        12\n",
      "\n",
      "[1461 rows x 2 columns]\n"
     ]
    }
   ],
   "source": [
    "df.drop(['Quality'], axis=1, inplace=True)\n",
    "print(df)"
   ]
  },
  {
   "cell_type": "code",
   "execution_count": 385,
   "metadata": {},
   "outputs": [
    {
     "name": "stdout",
     "output_type": "stream",
     "text": [
      "      Power  Detector\n",
      "0        96         8\n",
      "1        96        10\n",
      "2        91         8\n",
      "3        97         9\n",
      "4        91        11\n",
      "...     ...       ...\n",
      "1456     93         8\n",
      "1457     91        10\n",
      "1458     95         8\n",
      "1459     91        10\n",
      "1460    100        12\n",
      "\n",
      "[1054 rows x 2 columns]\n"
     ]
    }
   ],
   "source": [
    "df_good = df[good_mask]\n",
    "df_bad = df[bad_mask]\n",
    "print(df_good)"
   ]
  },
  {
   "cell_type": "code",
   "execution_count": 386,
   "metadata": {},
   "outputs": [
    {
     "name": "stdout",
     "output_type": "stream",
     "text": [
      "Good count: 1054\n",
      "Bad count: 407\n"
     ]
    }
   ],
   "source": [
    "print(f\"Good count: {len(df_good)}\")\n",
    "print(f\"Bad count: {len(df_bad)}\")"
   ]
  },
  {
   "cell_type": "code",
   "execution_count": 387,
   "metadata": {},
   "outputs": [
    {
     "name": "stdout",
     "output_type": "stream",
     "text": [
      "[[ 96   8]\n",
      " [ 96  10]\n",
      " [ 91   8]\n",
      " ...\n",
      " [ 95   8]\n",
      " [ 91  10]\n",
      " [100  12]]\n"
     ]
    }
   ],
   "source": [
    "x_good = df_good.values\n",
    "x_bad = df_bad.values\n",
    "print(x_good)"
   ]
  },
  {
   "cell_type": "code",
   "execution_count": 388,
   "metadata": {},
   "outputs": [],
   "source": [
    "total_value = pd.concat([df_good,df_bad], axis=0, ignore_index=True)\n",
    "total1 = total_value.values\n"
   ]
  },
  {
   "cell_type": "code",
   "execution_count": 389,
   "metadata": {},
   "outputs": [],
   "source": [
    "from sklearn.model_selection import train_test_split\n",
    "# split 75 percent of data into training set and other 25 percent to testing set and set the randomizing during split as 42\n",
    "x_good_train, x_good_test = train_test_split(\n",
    "        x_good, test_size=0.25, random_state=42)"
   ]
  },
  {
   "cell_type": "code",
   "execution_count": 390,
   "metadata": {},
   "outputs": [
    {
     "name": "stdout",
     "output_type": "stream",
     "text": [
      "Good train count: 790\n",
      "Good test count: 264\n",
      "Good test count: 1054\n"
     ]
    }
   ],
   "source": [
    "print(f\"Good train count: {len(x_good_train)}\")\n",
    "print(f\"Good test count: {len(x_good_test)}\")\n",
    "print(f\"Good test count: {len(x_good)}\")"
   ]
  },
  {
   "cell_type": "code",
   "execution_count": 391,
   "metadata": {},
   "outputs": [],
   "source": [
    "########################################################################################################"
   ]
  },
  {
   "cell_type": "code",
   "execution_count": 392,
   "metadata": {},
   "outputs": [],
   "source": [
    "from sklearn import metrics\n",
    "import numpy as np\n",
    "import pandas as pd\n",
    "import tensorflow as tf\n",
    "from tensorflow import keras\n",
    "from tensorflow.keras.models import Sequential\n",
    "from tensorflow.keras.layers import Dense"
   ]
  },
  {
   "cell_type": "code",
   "execution_count": 393,
   "metadata": {},
   "outputs": [
    {
     "name": "stdout",
     "output_type": "stream",
     "text": [
      "(1054, 2)\n"
     ]
    }
   ],
   "source": [
    "print(x_good.shape)"
   ]
  },
  {
   "cell_type": "code",
   "execution_count": 394,
   "metadata": {},
   "outputs": [
    {
     "name": "stdout",
     "output_type": "stream",
     "text": [
      "Model: \"sequential_11\"\n",
      "_________________________________________________________________\n",
      " Layer (type)                Output Shape              Param #   \n",
      "=================================================================\n",
      " dense_44 (Dense)            (None, 10)                30        \n",
      "                                                                 \n",
      " dense_45 (Dense)            (None, 3)                 33        \n",
      "                                                                 \n",
      " dense_46 (Dense)            (None, 10)                40        \n",
      "                                                                 \n",
      " dense_47 (Dense)            (None, 2)                 22        \n",
      "                                                                 \n",
      "=================================================================\n",
      "Total params: 125 (500.00 Byte)\n",
      "Trainable params: 125 (500.00 Byte)\n",
      "Non-trainable params: 0 (0.00 Byte)\n",
      "_________________________________________________________________\n"
     ]
    }
   ],
   "source": [
    "model = Sequential()\n",
    "model.add(Dense(10, input_dim=x_good.shape[1], activation = 'relu'))\n",
    "model.add(Dense(3,activation = 'relu'))\n",
    "model.add(Dense(10,activation = 'relu'))\n",
    "model.add(Dense(x_good.shape[1]))\n",
    "model.compile(loss='mean_squared_error', optimizer = 'adam')\n",
    "model.summary()"
   ]
  },
  {
   "cell_type": "code",
   "execution_count": 395,
   "metadata": {},
   "outputs": [
    {
     "name": "stdout",
     "output_type": "stream",
     "text": [
      "Epoch 1/100\n"
     ]
    },
    {
     "name": "stdout",
     "output_type": "stream",
     "text": [
      "25/25 [==============================] - 1s 3ms/step - loss: 4862.3315\n",
      "Epoch 2/100\n",
      "25/25 [==============================] - 0s 3ms/step - loss: 4661.8232\n",
      "Epoch 3/100\n",
      "25/25 [==============================] - 0s 2ms/step - loss: 4571.7671\n",
      "Epoch 4/100\n",
      "25/25 [==============================] - 0s 2ms/step - loss: 4535.1631\n",
      "Epoch 5/100\n",
      "25/25 [==============================] - 0s 2ms/step - loss: 4484.4717\n",
      "Epoch 6/100\n",
      "25/25 [==============================] - 0s 2ms/step - loss: 4341.0815\n",
      "Epoch 7/100\n",
      "25/25 [==============================] - 0s 2ms/step - loss: 4012.5332\n",
      "Epoch 8/100\n",
      "25/25 [==============================] - 0s 2ms/step - loss: 3421.5869\n",
      "Epoch 9/100\n",
      "25/25 [==============================] - 0s 2ms/step - loss: 2580.9429\n",
      "Epoch 10/100\n",
      "25/25 [==============================] - 0s 2ms/step - loss: 1628.4282\n",
      "Epoch 11/100\n",
      "25/25 [==============================] - 0s 2ms/step - loss: 779.6790\n",
      "Epoch 12/100\n",
      "25/25 [==============================] - 0s 2ms/step - loss: 234.0431\n",
      "Epoch 13/100\n",
      "25/25 [==============================] - 0s 2ms/step - loss: 33.3216\n",
      "Epoch 14/100\n",
      "25/25 [==============================] - 0s 2ms/step - loss: 2.3742\n",
      "Epoch 15/100\n",
      "25/25 [==============================] - 0s 2ms/step - loss: 1.3022\n",
      "Epoch 16/100\n",
      "25/25 [==============================] - 0s 2ms/step - loss: 1.2891\n",
      "Epoch 17/100\n",
      "25/25 [==============================] - 0s 2ms/step - loss: 1.2779\n",
      "Epoch 18/100\n",
      "25/25 [==============================] - 0s 2ms/step - loss: 1.2772\n",
      "Epoch 19/100\n",
      "25/25 [==============================] - 0s 2ms/step - loss: 1.2771\n",
      "Epoch 20/100\n",
      "25/25 [==============================] - 0s 2ms/step - loss: 1.2747\n",
      "Epoch 21/100\n",
      "25/25 [==============================] - 0s 2ms/step - loss: 1.2745\n",
      "Epoch 22/100\n",
      "25/25 [==============================] - 0s 2ms/step - loss: 1.2747\n",
      "Epoch 23/100\n",
      "25/25 [==============================] - 0s 2ms/step - loss: 1.2769\n",
      "Epoch 24/100\n",
      "25/25 [==============================] - 0s 2ms/step - loss: 1.2744\n",
      "Epoch 25/100\n",
      "25/25 [==============================] - 0s 2ms/step - loss: 1.2774\n",
      "Epoch 26/100\n",
      "25/25 [==============================] - 0s 2ms/step - loss: 1.2753\n",
      "Epoch 27/100\n",
      "25/25 [==============================] - 0s 2ms/step - loss: 1.2750\n",
      "Epoch 28/100\n",
      "25/25 [==============================] - 0s 2ms/step - loss: 1.2720\n",
      "Epoch 29/100\n",
      "25/25 [==============================] - 0s 2ms/step - loss: 1.2709\n",
      "Epoch 30/100\n",
      "25/25 [==============================] - 0s 2ms/step - loss: 1.2714\n",
      "Epoch 31/100\n",
      "25/25 [==============================] - 0s 2ms/step - loss: 1.2699\n",
      "Epoch 32/100\n",
      "25/25 [==============================] - 0s 2ms/step - loss: 1.2698\n",
      "Epoch 33/100\n",
      "25/25 [==============================] - 0s 2ms/step - loss: 1.2707\n",
      "Epoch 34/100\n",
      "25/25 [==============================] - 0s 2ms/step - loss: 1.2695\n",
      "Epoch 35/100\n",
      "25/25 [==============================] - 0s 2ms/step - loss: 1.2692\n",
      "Epoch 36/100\n",
      "25/25 [==============================] - 0s 2ms/step - loss: 1.2703\n",
      "Epoch 37/100\n",
      "25/25 [==============================] - 0s 5ms/step - loss: 1.2706\n",
      "Epoch 38/100\n",
      "25/25 [==============================] - 0s 2ms/step - loss: 1.2673\n",
      "Epoch 39/100\n",
      "25/25 [==============================] - 0s 2ms/step - loss: 1.2659\n",
      "Epoch 40/100\n",
      "25/25 [==============================] - 0s 2ms/step - loss: 1.2681\n",
      "Epoch 41/100\n",
      "25/25 [==============================] - 0s 2ms/step - loss: 1.2706\n",
      "Epoch 42/100\n",
      "25/25 [==============================] - 0s 2ms/step - loss: 1.2674\n",
      "Epoch 43/100\n",
      "25/25 [==============================] - 0s 2ms/step - loss: 1.2649\n",
      "Epoch 44/100\n",
      "25/25 [==============================] - 0s 2ms/step - loss: 1.2642\n",
      "Epoch 45/100\n",
      "25/25 [==============================] - 0s 2ms/step - loss: 1.2610\n",
      "Epoch 46/100\n",
      "25/25 [==============================] - 0s 2ms/step - loss: 1.2621\n",
      "Epoch 47/100\n",
      "25/25 [==============================] - 0s 2ms/step - loss: 1.2696\n",
      "Epoch 48/100\n",
      "25/25 [==============================] - 0s 2ms/step - loss: 1.2651\n",
      "Epoch 49/100\n",
      "25/25 [==============================] - 0s 2ms/step - loss: 1.2610\n",
      "Epoch 50/100\n",
      "25/25 [==============================] - 0s 2ms/step - loss: 1.2579\n",
      "Epoch 51/100\n",
      "25/25 [==============================] - 0s 2ms/step - loss: 1.2570\n",
      "Epoch 52/100\n",
      "25/25 [==============================] - 0s 3ms/step - loss: 1.2556\n",
      "Epoch 53/100\n",
      "25/25 [==============================] - 0s 2ms/step - loss: 1.2552\n",
      "Epoch 54/100\n",
      "25/25 [==============================] - 0s 2ms/step - loss: 1.2755\n",
      "Epoch 55/100\n",
      "25/25 [==============================] - 0s 2ms/step - loss: 1.2595\n",
      "Epoch 56/100\n",
      "25/25 [==============================] - 0s 2ms/step - loss: 1.2523\n",
      "Epoch 57/100\n",
      "25/25 [==============================] - 0s 2ms/step - loss: 1.2537\n",
      "Epoch 58/100\n",
      "25/25 [==============================] - 0s 2ms/step - loss: 1.2496\n",
      "Epoch 59/100\n",
      "25/25 [==============================] - 0s 2ms/step - loss: 1.2490\n",
      "Epoch 60/100\n",
      "25/25 [==============================] - 0s 2ms/step - loss: 1.2521\n",
      "Epoch 61/100\n",
      "25/25 [==============================] - 0s 2ms/step - loss: 1.2471\n",
      "Epoch 62/100\n",
      "25/25 [==============================] - 0s 2ms/step - loss: 1.2487\n",
      "Epoch 63/100\n",
      "25/25 [==============================] - 0s 2ms/step - loss: 1.2499\n",
      "Epoch 64/100\n",
      "25/25 [==============================] - 0s 2ms/step - loss: 1.2487\n",
      "Epoch 65/100\n",
      "25/25 [==============================] - 0s 2ms/step - loss: 1.2550\n",
      "Epoch 66/100\n",
      "25/25 [==============================] - 0s 2ms/step - loss: 1.2447\n",
      "Epoch 67/100\n",
      "25/25 [==============================] - 0s 2ms/step - loss: 1.2494\n",
      "Epoch 68/100\n",
      "25/25 [==============================] - 0s 2ms/step - loss: 1.2447\n",
      "Epoch 69/100\n",
      "25/25 [==============================] - 0s 2ms/step - loss: 1.2434\n",
      "Epoch 70/100\n",
      "25/25 [==============================] - 0s 2ms/step - loss: 1.2411\n",
      "Epoch 71/100\n",
      "25/25 [==============================] - 0s 2ms/step - loss: 1.2399\n",
      "Epoch 72/100\n",
      "25/25 [==============================] - 0s 2ms/step - loss: 1.2420\n",
      "Epoch 73/100\n",
      "25/25 [==============================] - 0s 2ms/step - loss: 1.2385\n",
      "Epoch 74/100\n",
      "25/25 [==============================] - 0s 2ms/step - loss: 1.2509\n",
      "Epoch 75/100\n",
      "25/25 [==============================] - 0s 2ms/step - loss: 1.2290\n",
      "Epoch 76/100\n",
      "25/25 [==============================] - 0s 2ms/step - loss: 1.2393\n",
      "Epoch 77/100\n",
      "25/25 [==============================] - 0s 2ms/step - loss: 1.2304\n",
      "Epoch 78/100\n",
      "25/25 [==============================] - 0s 2ms/step - loss: 1.2310\n",
      "Epoch 79/100\n",
      "25/25 [==============================] - 0s 2ms/step - loss: 1.2298\n",
      "Epoch 80/100\n",
      "25/25 [==============================] - 0s 2ms/step - loss: 1.2307\n",
      "Epoch 81/100\n",
      "25/25 [==============================] - 0s 2ms/step - loss: 1.2310\n",
      "Epoch 82/100\n",
      "25/25 [==============================] - 0s 2ms/step - loss: 1.2269\n",
      "Epoch 83/100\n",
      "25/25 [==============================] - 0s 2ms/step - loss: 1.2268\n",
      "Epoch 84/100\n",
      "25/25 [==============================] - 0s 2ms/step - loss: 1.2291\n",
      "Epoch 85/100\n",
      "25/25 [==============================] - 0s 2ms/step - loss: 1.2223\n",
      "Epoch 86/100\n",
      "25/25 [==============================] - 0s 2ms/step - loss: 1.2228\n",
      "Epoch 87/100\n",
      "25/25 [==============================] - 0s 2ms/step - loss: 1.2245\n",
      "Epoch 88/100\n",
      "25/25 [==============================] - 0s 2ms/step - loss: 1.2191\n",
      "Epoch 89/100\n",
      "25/25 [==============================] - 0s 2ms/step - loss: 1.2275\n",
      "Epoch 90/100\n",
      "25/25 [==============================] - 0s 2ms/step - loss: 1.2252\n",
      "Epoch 91/100\n",
      "25/25 [==============================] - 0s 2ms/step - loss: 1.2160\n",
      "Epoch 92/100\n",
      "25/25 [==============================] - 0s 2ms/step - loss: 1.2276\n",
      "Epoch 93/100\n",
      "25/25 [==============================] - 0s 2ms/step - loss: 1.2092\n",
      "Epoch 94/100\n",
      "25/25 [==============================] - 0s 2ms/step - loss: 1.2397\n",
      "Epoch 95/100\n",
      "25/25 [==============================] - 0s 2ms/step - loss: 1.2085\n",
      "Epoch 96/100\n",
      "25/25 [==============================] - 0s 2ms/step - loss: 1.2163\n",
      "Epoch 97/100\n",
      "25/25 [==============================] - 0s 2ms/step - loss: 1.2257\n",
      "Epoch 98/100\n",
      "25/25 [==============================] - 0s 2ms/step - loss: 1.2125\n",
      "Epoch 99/100\n",
      "25/25 [==============================] - 0s 2ms/step - loss: 1.2168\n",
      "Epoch 100/100\n",
      "25/25 [==============================] - 0s 2ms/step - loss: 1.2192\n"
     ]
    },
    {
     "data": {
      "text/plain": [
       "<keras.src.callbacks.History at 0x2ed3c51ea10>"
      ]
     },
     "execution_count": 395,
     "metadata": {},
     "output_type": "execute_result"
    }
   ],
   "source": [
    "model.fit(x_good_train,x_good_train, verbose=1, epochs=100)"
   ]
  },
  {
   "cell_type": "code",
   "execution_count": 396,
   "metadata": {},
   "outputs": [
    {
     "name": "stdout",
     "output_type": "stream",
     "text": [
      "9/9 [==============================] - 0s 2ms/step\n"
     ]
    }
   ],
   "source": [
    "pred = model.predict(x_good_test)\n",
    "# the test data is sent to model and prediction is done\n",
    "score1 = np.sqrt(metrics.mean_squared_error(pred,x_good_test))\n",
    "# then the mean squared error of the test set and the model predicted result of test set is stored in score1"
   ]
  },
  {
   "cell_type": "code",
   "execution_count": 397,
   "metadata": {},
   "outputs": [
    {
     "name": "stdout",
     "output_type": "stream",
     "text": [
      "25/25 [==============================] - 0s 2ms/step\n",
      "33/33 [==============================] - 0s 2ms/step\n"
     ]
    }
   ],
   "source": [
    "pred = model.predict(x_good_train)\n",
    "score2 = np.sqrt(metrics.mean_squared_error(pred,x_good_train))\n",
    "# x_good is the entire data set of the good entries\n",
    "pred = model.predict(x_good)\n",
    "score3 = np.sqrt(metrics.mean_squared_error(pred,x_good))"
   ]
  },
  {
   "cell_type": "code",
   "execution_count": 398,
   "metadata": {},
   "outputs": [
    {
     "name": "stdout",
     "output_type": "stream",
     "text": [
      "13/13 [==============================] - 0s 2ms/step\n"
     ]
    }
   ],
   "source": [
    "pred = model.predict(x_bad)\n",
    "score4 = np.sqrt(metrics.mean_squared_error(pred,x_bad))"
   ]
  },
  {
   "cell_type": "code",
   "execution_count": 399,
   "metadata": {},
   "outputs": [
    {
     "name": "stdout",
     "output_type": "stream",
     "text": [
      "In test set of Good Score (RMSE): 1.0971952017794502\n",
      "In train set Good Score (RMSE): 1.0952625030832648\n",
      "Entire set Good Score (RMSE): 1.0957468993752995\n",
      "Bad entire set Score (RMSE): 2.7212279102600623\n"
     ]
    }
   ],
   "source": [
    "print(f\"In test set of Good Score (RMSE): {score1}\".format(score1))\n",
    "print(f\"In train set Good Score (RMSE): {score2}\")\n",
    "print(f\"Entire set Good Score (RMSE): {score3}\")\n",
    "print(f\"Bad entire set Score (RMSE): {score4}\")"
   ]
  },
  {
   "cell_type": "code",
   "execution_count": 400,
   "metadata": {},
   "outputs": [
    {
     "name": "stdout",
     "output_type": "stream",
     "text": [
      "46/46 [==============================] - 0s 2ms/step\n",
      "1.7114513696268348\n"
     ]
    }
   ],
   "source": [
    "pred = model.predict(total1)\n",
    "score5 = np.sqrt(metrics.mean_squared_error(pred,total1))\n",
    "print(score5)"
   ]
  },
  {
   "cell_type": "code",
   "execution_count": null,
   "metadata": {},
   "outputs": [],
   "source": []
  }
 ],
 "metadata": {
  "kernelspec": {
   "display_name": "Python 3",
   "language": "python",
   "name": "python3"
  },
  "language_info": {
   "codemirror_mode": {
    "name": "ipython",
    "version": 3
   },
   "file_extension": ".py",
   "mimetype": "text/x-python",
   "name": "python",
   "nbconvert_exporter": "python",
   "pygments_lexer": "ipython3",
   "version": "3.10.6"
  }
 },
 "nbformat": 4,
 "nbformat_minor": 2
}
